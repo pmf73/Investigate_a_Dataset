{
 "cells": [
  {
   "cell_type": "markdown",
   "metadata": {},
   "source": [
    "# MLB Salary Analysis"
   ]
  },
  {
   "cell_type": "markdown",
   "metadata": {},
   "source": [
    "**In the following analysis, I will delve deeper into the age-old debate whether big spending MLB teams win more games than their lower spending competitors.**\n",
    "\n",
    "The economics of MLB has changed over the course of history with certain structural changes and events shaping the game as it exists today; including the addition of more teams (30 today vs. 24 in 1976), free agency (1976), the ownership collusion scandal (1985-1987), and the Collective Bargaining Agreement (2006).  \n",
    "\n",
    "In 2001 and 2002 “Moneyball” was introduced into the game by the Oakland Athletics which utilized big data structures and statistical analysis that re-wrote how risk and value, as applied to prospects, was modeled and optimized.  One question that is always being asked is \"Are we paying too much for each win?\"\n",
    "\n",
    "Predictably, MLB team salaries have increased markedly since 1985, the period I will analyze.  In-turn, cost-per-win has increased with expanding payrolls.  To determine if cost-per-win is statistically significant in predicting team wins and playoff appearances, I will seek to answer the following three questions:\n",
    "\n",
    "1) Is there a correlation between team salary & wins?\n",
    "\n",
    "2) Is there a correlation between team salary and making the playoffs?\n",
    "\n",
    "3) Is there a clear gap between the spending of teams that made the playoffs vs. teams that didn't make the playoffs?\n",
    "\n",
    "I anticipate the visualization of data to expose several outliers analyzing the payrolls of big market teams (New York Yankees, Boston Red Sox) versus mid-market teams (Kansas City Royals, Baltimore Orioles), and small-market teams (Miami Marlins, Houston Astros).  The sample sizes of teams making the playoffs versus teams that do not make the playoffs (10 vs. 20 in 2015) may also affect the outcome."
   ]
  },
  {
   "cell_type": "markdown",
   "metadata": {},
   "source": [
    "## Hypothesis"
   ]
  },
  {
   "cell_type": "markdown",
   "metadata": {},
   "source": [
    "**Hypothesis:** The more a team spends, the likelihood of winning games and making the playoffs increases.\n",
    "\n",
    "**Independent variable:** salary\n",
    "\n",
    "**Dependent variables:** wins, playoff appearances\n"
   ]
  },
  {
   "cell_type": "markdown",
   "metadata": {},
   "source": [
    "## Imports"
   ]
  },
  {
   "cell_type": "code",
   "execution_count": 1,
   "metadata": {
    "collapsed": false
   },
   "outputs": [
    {
     "name": "stdout",
     "output_type": "stream",
     "text": [
      "Populating the interactive namespace from numpy and matplotlib\n"
     ]
    }
   ],
   "source": [
    "%pylab inline\n",
    "\n",
    "import pandas as pd\n",
    "import numpy as np\n",
    "import matplotlib.pyplot as plt\n",
    "import scipy\n",
    "from scipy.stats import f_oneway\n",
    "\n",
    "batting = pd.read_csv('csvs/Batting.csv')\n",
    "master = pd.read_csv('csvs/Master.csv')\n",
    "salary = pd.read_csv('csvs/Salaries.csv')\n",
    "pitching = pd.read_csv('csvs/Pitching.csv')\n",
    "team = pd.read_csv('csvs/Teams.csv')"
   ]
  },
  {
   "cell_type": "markdown",
   "metadata": {},
   "source": [
    "## DataFrame Creation"
   ]
  },
  {
   "cell_type": "code",
   "execution_count": 2,
   "metadata": {
    "collapsed": false
   },
   "outputs": [],
   "source": [
    "# added a column to the DataFrame that converts playoff teams 'Y' & 'N' to either 1 or 0\n",
    "\n",
    "team_salaries = salary.groupby(['yearID', 'teamID'], as_index=False).sum()\n",
    "team = team[team['yearID'] >= 1985]\n",
    "team = team.merge(team_salaries)\n",
    "\n",
    "playoff_teams = team[(team['DivWin'] == 'Y') | (team['WCWin'] == 'Y')]\n",
    "\n",
    "team = team.assign(salary_per_win = lambda x: x.salary / x.W)\n",
    "team = team.assign(made_playoffs = lambda x: (x.DivWin == 'Y') | (x.WCWin == 'Y'))\n",
    "team['made_playoffs'] = team['made_playoffs'].astype(int)"
   ]
  },
  {
   "cell_type": "markdown",
   "metadata": {},
   "source": [
    "## Q1:  Is there a correlation between team salary & wins?"
   ]
  },
  {
   "cell_type": "code",
   "execution_count": 3,
   "metadata": {
    "collapsed": false
   },
   "outputs": [
    {
     "name": "stdout",
     "output_type": "stream",
     "text": [
      "     yearID franchID    W     salary  salary_per_win  made_playoffs\n",
      "883    2015      LAD   92  215792000    2.345565e+06              1\n",
      "864    2015      NYY   87  212751957    2.445425e+06              1\n",
      "867    2015      BOS   78  181103400    2.321838e+06              0\n",
      "862    2015      DET   74  172284750    2.328172e+06              0\n",
      "884    2015      SFG   84  164701500    1.960732e+06              0\n",
      "879    2015      WSN   83  155587472    1.874548e+06              0\n",
      "868    2015      TEX   88  143742789    1.633441e+06              1\n",
      "871    2015      SEA   76  122208700    1.608009e+06              0\n",
      "870    2015      ANA   85  120005415    1.411828e+06              0\n",
      "873    2015      STL  100  119241500    1.192415e+06              1\n",
      "886    2015      SDP   74  118441300    1.600558e+06              0\n",
      "875    2015      CHC   97  115879310    1.194632e+06              1\n",
      "865    2015      BAL   81  115044833    1.420307e+06              0\n",
      "877    2015      CIN   64  113072286    1.766754e+06              0\n",
      "863    2015      TOR   93  112992400    1.214972e+06              1\n",
      "861    2015      CHW   76  112373700    1.478601e+06              0\n",
      "858    2015      KCR   95  112107025    1.180074e+06              1\n",
      "882    2015      PHI   63  111693000    1.772905e+06              0\n",
      "859    2015      MIN   83  107755000    1.298253e+06              0\n",
      "876    2015      MIL   68  100850000    1.483088e+06              0\n",
      "878    2015      NYM   90   96766683    1.075185e+06              1\n",
      "887    2015      COL   68   95688600    1.407185e+06              0\n",
      "874    2015      PIT   98   88892499    9.070663e+05              1\n",
      "860    2015      CLE   81   87663766    1.082269e+06              0\n",
      "872    2015      OAK   68   79053501    1.162551e+06              0\n",
      "869    2015      HOU   86   72256200    8.401884e+05              1\n",
      "881    2015      ATL   67   71781250    1.071362e+06              0\n",
      "880    2015      FLA   71   68056500    9.585423e+05              0\n",
      "866    2015      TBD   80   64521233    8.065154e+05              0\n",
      "885    2015      ARI   79   61834000    7.827089e+05              0\n",
      "0      1985      ATL   66   14807000    2.243485e+05              0\n",
      "3      1985      ANA   90   14427894    1.603099e+05              0\n",
      "15     1985      NYY   97   14238204    1.467856e+05              0\n",
      "5      1985      CHC   77   12702917    1.649729e+05              0\n",
      "23     1985      STL  101   11817083    1.170008e+05              1\n",
      "1      1985      BAL   83   11560712    1.392857e+05              0\n",
      "13     1985      MIL   71   11284107    1.589311e+05              0\n",
      "20     1985      SDP   83   11036583    1.329709e+05              0\n",
      "11     1985      LAD   95   10967917    1.154518e+05              1\n",
      "2      1985      BOS   81   10897560    1.345378e+05              0\n",
      "16     1985      NYM   98   10834762    1.105588e+05              0\n",
      "8      1985      DET   84   10348143    1.231922e+05              0\n",
      "18     1985      PHI   75   10124966    1.349995e+05              0\n",
      "9      1985      HOU   83    9993051    1.203982e+05              0\n",
      "4      1985      CHW   85    9846178    1.158374e+05              0\n",
      "14     1985      WSN   84    9470166    1.127401e+05              0\n",
      "10     1985      KCR   91    9321179    1.024305e+05              1\n",
      "19     1985      PIT   57    9227500    1.618860e+05              0\n",
      "17     1985      OAK   77    9058606    1.176442e+05              0\n",
      "25     1985      TOR   99    8812550    8.901566e+04              1\n",
      "6      1985      CIN   89    8359917    9.393165e+04              0\n",
      "22     1985      SFG   62    8221714    1.326083e+05              0\n",
      "24     1985      TEX   62    7676500    1.238145e+05              0\n",
      "7      1985      CLE   60    6551666    1.091944e+05              0\n",
      "12     1985      MIN   77    5764821    7.486781e+04              0\n",
      "21     1985      SEA   74    4613000    6.233784e+04              0\n"
     ]
    }
   ],
   "source": [
    "### print team[['yearID', 'franchID', 'W', 'salary', 'salary_per_win', 'made_playoffs']].sort('salary', ascending=False)\n",
    "columns = ['yearID', 'franchID', 'W', 'salary', 'salary_per_win', 'made_playoffs']\n",
    "\n",
    "\n",
    "### print team[team['yearID'] == 2015].sort_values('salary', ascending=False)[columns]\n",
    "\n",
    "print team[(team['yearID'] == 1985) | (team['yearID'] == 2015)] \\\n",
    "    .sort_values(['yearID', 'salary'], ascending=False)[columns]"
   ]
  },
  {
   "cell_type": "markdown",
   "metadata": {},
   "source": [
    "**Correlation coefficient**: a number between −1 and +1 calculated to represent the linear dependence of two variables or sets of data.\n",
    "\n",
    "In this case I calculate **Pearson's r** (the covariance of the variables divided by the product of their standard deviations) to calculate the strength and direction of the linear relationship between salary and wins.\n",
    "\n",
    "The following calculations show an overall relationship between salary and wins, less strong between 1985 - 1995, although correlation is there, and stronger in the late 90's and early 00's.\n"
   ]
  },
  {
   "cell_type": "code",
   "execution_count": 4,
   "metadata": {
    "collapsed": false
   },
   "outputs": [
    {
     "name": "stdout",
     "output_type": "stream",
     "text": [
      "Year: 1985 0.34205517452\n",
      "Year: 1986 0.210318923388\n",
      "Year: 1987 -0.0561760591347\n",
      "Year: 1988 0.162257784516\n",
      "Year: 1989 0.34052664272\n",
      "Year: 1990 0.0016587832611\n",
      "Year: 1991 0.233452563366\n",
      "Year: 1992 0.0326815792365\n",
      "Year: 1993 0.352641213608\n",
      "Year: 1995 0.3266298284\n",
      "Year: 1996 0.549982298357\n",
      "Year: 1997 0.440002899804\n",
      "Year: 1998 0.658006395448\n",
      "Year: 1999 0.56393952032\n",
      "Year: 2000 0.331089731766\n",
      "Year: 2001 0.320648041884\n",
      "Year: 2002 0.442415527385\n",
      "Year: 2003 0.418703514233\n",
      "Year: 2004 0.54101480514\n",
      "Year: 2005 0.49106954664\n",
      "Year: 2006 0.53627598009\n",
      "Year: 2007 0.491055282798\n",
      "Year: 2008 0.32697333856\n",
      "Year: 2009 0.4763102635\n",
      "Year: 2010 0.368869433157\n",
      "Year: 2011 0.409202916437\n",
      "Year: 2012 0.190056680031\n",
      "Year: 2013 0.299579448546\n",
      "Year: 2014 0.322432582587\n",
      "Year: 2015 0.238783487589\n"
     ]
    }
   ],
   "source": [
    "# function to calculate correlation coefficient by year\n",
    "\n",
    "def correlation(x,y):\n",
    "    std_x=(x-x.mean())/x.std(ddof=0)\n",
    "    std_y=(y-y.mean())/y.std(ddof=0)\n",
    "    \n",
    "    return (std_x * std_y).mean()\n",
    "\n",
    "def correlation_by_year(d,y):\n",
    "    return correlation(d[d['yearID'] == y]['salary'],d[d['yearID'] == y]['W'])\n",
    "\n",
    "### example of correlation in 1999\n",
    "### print correlation_by_year(team, 1999)\n",
    "\n",
    "# remove strike-shortened season 1994\n",
    "years = range(1985, 2016)\n",
    "years.remove(1994)\n",
    "\n",
    "correlations = []\n",
    "\n",
    "# iterate over dataframe, append to list\n",
    "for y in years:\n",
    "    print \"Year: \" + str(y) + \" \" + str(correlation_by_year(team, y))\n",
    "    correlations.append(correlation_by_year(team, y))"
   ]
  },
  {
   "cell_type": "markdown",
   "metadata": {},
   "source": [
    "**Graph**: The folloiwng visualizaiton represents a clear, positive correlation between salary and wins.  The closer to zero indicates no correlation, and we can see only three years in which this is the case.  Otherwise we see a positive correlation."
   ]
  },
  {
   "cell_type": "code",
   "execution_count": 5,
   "metadata": {
    "collapsed": false
   },
   "outputs": [
    {
     "data": {
      "image/png": "[encoded data removed]",
      "text/plain": [
       "<matplotlib.figure.Figure at 0x116e4d690>"
      ]
     },
     "metadata": {},
     "output_type": "display_data"
    }
   ],
   "source": [
    "# plot the correlation\n",
    "plt.figure(figsize= (20,10))\n",
    "plt.bar(years, correlations)\n",
    "\n",
    "plt.xlabel('Years')\n",
    "plt.ylabel('Correlation coefficient (r)')\n",
    "plt.title('Correlation of Salary/Wins by Year')\n",
    "plt.show()"
   ]
  },
  {
   "cell_type": "markdown",
   "metadata": {},
   "source": [
    "## P-value test\n",
    "\n",
    "Explain what a p-value is & why use below code?\n",
    "\n",
    "p-value determines if the null hypothesis holds or falls apart\n",
    "\n",
    "The null hypothesis stats there is no relationship between salary/wins\n",
    "\n",
    "if p-value > .05, we accept the null hypothesis & determine there is no significance\n",
    "\n",
    "if p-value < .05, we reject the null hypothesis & determine there is significant relationship\n",
    "\n",
    "therefore we reject the null hypothesis in this case as the p-value is effectively zero"
   ]
  },
  {
   "cell_type": "code",
   "execution_count": 6,
   "metadata": {
    "collapsed": false
   },
   "outputs": [
    {
     "data": {
      "text/plain": [
       "F_onewayResult(statistic=1727.1197928699726, pvalue=3.4743011804588243e-264)"
      ]
     },
     "execution_count": 6,
     "metadata": {},
     "output_type": "execute_result"
    }
   ],
   "source": [
    "### Code for the p-value? 3.47 x 10 -264 is v close to 0 so strong correlation determining the \"significance\"\n",
    "\n",
    "\n",
    "\n",
    "scipy.stats.f_oneway(team['salary'], team['W'])"
   ]
  },
  {
   "cell_type": "markdown",
   "metadata": {},
   "source": [
    "### What findings tell us about result?"
   ]
  },
  {
   "cell_type": "markdown",
   "metadata": {},
   "source": [
    "## Q2:  Is there a correlation between team salary and making the playoffs?"
   ]
  },
  {
   "cell_type": "markdown",
   "metadata": {},
   "source": [
    "### Explain these numbers. Is there a correlation between a team's salary and making the playoffs? Was the correlation stronger in certain years than other years? Any reason for this? Maybe there's a bit of randomness involved in baseball?"
   ]
  },
  {
   "cell_type": "code",
   "execution_count": 7,
   "metadata": {
    "collapsed": false
   },
   "outputs": [
    {
     "name": "stdout",
     "output_type": "stream",
     "text": [
      "Year: 1985 0.0271231638483\n",
      "Year: 1986 0.229714636285\n",
      "Year: 1987 -0.123343160537\n",
      "Year: 1988 0.304416025563\n",
      "Year: 1989 0.0646270332039\n",
      "Year: 1990 0.0600193094111\n",
      "Year: 1991 -0.142107831185\n",
      "Year: 1992 0.361912963523\n",
      "Year: 1993 0.318982688819\n",
      "Year: 1995 0.406536073212\n",
      "Year: 1996 0.573034409376\n",
      "Year: 1997 0.4213795643\n",
      "Year: 1998 0.505035713481\n",
      "Year: 1999 0.608926897463\n",
      "Year: 2000 0.176466673263\n",
      "Year: 2001 0.332936823263\n",
      "Year: 2002 0.239003205337\n",
      "Year: 2003 0.299253893936\n",
      "Year: 2004 0.595934134333\n",
      "Year: 2005 0.531306492348\n",
      "Year: 2006 0.337830270927\n",
      "Year: 2007 0.311952919809\n",
      "Year: 2008 0.238111193808\n",
      "Year: 2009 0.381231213824\n",
      "Year: 2010 0.205420282097\n",
      "Year: 2011 0.218548832189\n",
      "Year: 2012 0.152931172141\n",
      "Year: 2013 0.0910672717762\n",
      "Year: 2014 0.290240143963\n",
      "Year: 2015 0.212064693098\n"
     ]
    }
   ],
   "source": [
    "#correlation of playoff teams salary/wins\n",
    "\n",
    "def correlation_mp(d,y):\n",
    "    return correlation(d[d['yearID'] == y]['salary'],d[d['yearID'] == y]['made_playoffs'])\n",
    "\n",
    "for y in years:\n",
    "    print \"Year: \" + str(y) + \" \" + str(correlation_mp(team, y))"
   ]
  },
  {
   "cell_type": "markdown",
   "metadata": {},
   "source": [
    "## Q3: Is there a clear gap between the spending of teams that made the playoffs vs. teams that didn't make the playoffs?"
   ]
  },
  {
   "cell_type": "code",
   "execution_count": 8,
   "metadata": {
    "collapsed": false
   },
   "outputs": [],
   "source": [
    "playoff_teams = team[team['made_playoffs'] == 1]\n",
    "playoff_salaries = playoff_teams.groupby('yearID')['salary'].mean()\n",
    "\n",
    "non_playoff_teams = team[(team['made_playoffs'] == 0) & (team['yearID'] != 1994)]\n",
    "non_playoff_salaries = non_playoff_teams.groupby('yearID')['salary'].mean()"
   ]
  },
  {
   "cell_type": "code",
   "execution_count": 9,
   "metadata": {
    "collapsed": false
   },
   "outputs": [
    {
     "data": {
      "image/png": "[encoded data removed]",
      "text/plain": [
       "<matplotlib.figure.Figure at 0x116289550>"
      ]
     },
     "metadata": {},
     "output_type": "display_data"
    }
   ],
   "source": [
    "plt.plot(years, non_playoff_salaries, color= 'blue', label= 'non-playoff team')\n",
    "plt.plot(years, playoff_salaries, color= 'green', label= 'playoff team')\n",
    "\n",
    "plt.xlabel('Years')\n",
    "plt.ylabel('Salary')\n",
    "plt.title('Playoff team salaries vs. Non-Playoff team salaries')\n",
    "plt.legend(loc = 'upper left')\n",
    "plt.show()"
   ]
  },
  {
   "cell_type": "markdown",
   "metadata": {},
   "source": [
    "### Why were the lines similar from 1985 to 1991?? (I'd probably say something along the lines of a growing gap between the amount teams were spending in the early 90s, maybe look at the min and max team salaries per year)\n",
    "\n",
    "2004 yanks & sox both made it 300MM combined\n",
    "extra wild card team? 8 vs 10 outliers effect on 8 teams will affect the mean // 8 playff vs 22 non-playoff ('04)\n",
    "budgets much smaller\n",
    "collusion scandal + ???"
   ]
  },
  {
   "cell_type": "code",
   "execution_count": 10,
   "metadata": {
    "collapsed": false
   },
   "outputs": [
    {
     "name": "stdout",
     "output_type": "stream",
     "text": [
      "Year: 1985 0.390069338578\n",
      "Year: 1986 0.0389630098473\n",
      "Year: 1987 -0.0583775317641\n",
      "Year: 1988 0.0268155362867\n",
      "Year: 1989 0.381760100022\n",
      "Year: 1990 -0.069927987477\n",
      "Year: 1991 0.401984060996\n",
      "Year: 1992 -0.296277333926\n",
      "Year: 1993 0.234175038761\n",
      "Year: 1995 0.0174837579079\n",
      "Year: 1996 0.269161561572\n",
      "Year: 1997 0.106799895153\n",
      "Year: 1998 0.545317419374\n",
      "Year: 1999 0.140392869434\n",
      "Year: 2000 0.416119967467\n",
      "Year: 2001 0.278114834335\n",
      "Year: 2002 0.4797174071\n",
      "Year: 2003 0.276978299147\n",
      "Year: 2004 0.216777389961\n",
      "Year: 2005 0.203092660357\n",
      "Year: 2006 0.549467757533\n",
      "Year: 2007 0.504105930509\n",
      "Year: 2008 0.284364865173\n",
      "Year: 2009 0.198016286345\n",
      "Year: 2010 0.346200697991\n",
      "Year: 2011 0.385399051753\n",
      "Year: 2012 0.189218870624\n",
      "Year: 2013 0.463973012074\n",
      "Year: 2014 0.124268315627\n",
      "Year: 2015 0.292182909735\n"
     ]
    }
   ],
   "source": [
    "### this info doesnt' tell us much don't need it\n",
    "\n",
    "#correlation of non-playoff teams salary/win\n",
    "### print correlation(non_playoff_teams['salary'],non_playoff_teams['W']) \n",
    "\n",
    "### print correlation_by_year(non_playoff_teams, 1999)\n",
    "\n",
    "for y in years:\n",
    "    print \"Year: \" + str(y) + \" \" + str(correlation_by_year(non_playoff_teams, y))\n",
    "    \n",
    "# stronger correlation (pay for wins) among non-play vs playoff teams\n",
    "# (perhaps due to less data for playoff teams)"
   ]
  },
  {
   "cell_type": "markdown",
   "metadata": {},
   "source": [
    "## Conclusion"
   ]
  },
  {
   "cell_type": "markdown",
   "metadata": {
    "collapsed": true
   },
   "source": [
    "### Add a bit more, maybe talk about the early 2000s and the Yankees and Red Sox payroll attributing to that huge gap between playoff teams salaries and non playoff team salaries, especially in 2004. Combined, the Yankees and Red Sox payroll was more than the 8 lowest teams payrolls combined!\n",
    "\n",
    "In general, big payroll teams are more likely to win and make the playoffs.\n",
    "\n",
    "The period from 1985 – 1996 saw relative parity for MLB teams.  Wins and salary are closely tied. \n",
    "\n",
    "The years 1996 – 2009 show an sustainable increase in that positive correlation, which peaks in the late 90’s and mid-2000’s.\n",
    "\n",
    "From the 2005 – 2015 correlation settles back into the range seen in the mid-80’s and the league reverts to a more competitive pattern in terms of spending to achieve wins.  Extreme correlation of the mid-90’s no longer exists."
   ]
  },
  {
   "cell_type": "markdown",
   "metadata": {},
   "source": [
    "## Sources\n",
    "\n",
    "* [http://www.fangraphs.com/blogs/relationship-between-spending-winning-remains-low/](http://www.fangraphs.com/blogs/relationship-between-spending-winning-remains-low/)\n",
    "* [http://blog.philbirnbaum.com/2010/06/payroll-and-wins-and-correlation.html](http://blog.philbirnbaum.com/2010/06/payroll-and-wins-and-correlation.html)\n",
    "* [http://www.hardballtimes.com/money-and-wins/](http://www.hardballtimes.com/money-and-wins/)"
   ]
  }
 ],
 "metadata": {
  "anaconda-cloud": {},
  "kernelspec": {
   "display_name": "Python [default]",
   "language": "python",
   "name": "python2"
  },
  "language_info": {
   "codemirror_mode": {
    "name": "ipython",
    "version": 2
   },
   "file_extension": ".py",
   "mimetype": "text/x-python",
   "name": "python",
   "nbconvert_exporter": "python",
   "pygments_lexer": "ipython2",
   "version": "2.7.12"
  }
 },
 "nbformat": 4,
 "nbformat_minor": 1
}
